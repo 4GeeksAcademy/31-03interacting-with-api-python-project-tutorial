{
    "cells": [
        {
            "cell_type": "markdown",
            "metadata": {},
            "source": [
                "# Explore here"
            ]
        },
        {
            "cell_type": "code",
            "execution_count": null,
            "metadata": {},
            "outputs": [
                {
                    "name": "stdout",
                    "output_type": "stream",
                    "text": [
                        "Top 3 canciones más populares:\n",
                        "                                          name  popularity  duration_min\n",
                        "0    Symphony Of Destruction - Remastered 2012          70          4.03\n",
                        "1  Holy Wars...The Punishment Due - 2004 Remix          69          6.54\n",
                        "2            A Tout Le Monde - Remastered 2004          67          4.37\n",
                        "📊 Gráfico guardado como scatter_plot.png\n"
                    ]
                },
                {
                    "data": {
                        "image/png": "[encoded data removed]",
                        "text/plain": [
                            "<Figure size 640x480 with 1 Axes>"
                        ]
                    },
                    "metadata": {},
                    "output_type": "display_data"
                }
            ],
            "source": [
                "from dotenv import load_dotenv\n",
                "import os\n",
                "import pandas as pd\n",
                "import seaborn as sns\n",
                "import spotipy\n",
                "from spotipy.oauth2 import SpotifyClientCredentials\n",
                "\n",
                "\n",
                "load_dotenv(dotenv_path=\"../.env\")\n",
                "\n",
                "\n",
                "client_id = os.getenv(\"SPOTIFY_CLIENT_ID\")\n",
                "client_secret = os.getenv(\"SPOTIFY_CLIENT_SECRET\")\n",
                "\n",
                "\n",
                "sp = spotipy.Spotify(auth_manager=SpotifyClientCredentials(client_id=client_id,\n",
                "                                                           client_secret=client_secret))\n",
                "\n",
                "\n",
                "artist_id = \"1Yox196W7bzVNZI7RBaPnf\"\n",
                "\n",
                "# Obtener las mejores canciones del artista\n",
                "response = sp.artist_top_tracks(artist_id)\n",
                "\n",
                "if response:\n",
                "    tracks = response[\"tracks\"]\n",
                "    \n",
                "    # Seleccionar solo la información relevante y convertir la duración a minutos\n",
                "    tracks = [{\n",
                "        \"name\": track[\"name\"],\n",
                "        \"popularity\": track[\"popularity\"],\n",
                "        \"duration_min\": round(track[\"duration_ms\"] / 60000, 2)  # Convertir ms a minutos\n",
                "    } for track in tracks]\n",
                "\n",
                "    # Convertir a un DataFrame para mejor visualización\n",
                "    tracks_df = pd.DataFrame.from_records(tracks)\n",
                "\n",
                "    # Ordenar por popularidad de menor a mayor\n",
                "    tracks_df = tracks_df.sort_values(by=\"popularity\", ascending=False)\n",
                "\n",
                "# Mostrar el top 3 más popular\n",
                "    print(\"Top 3 canciones más populares:\")\n",
                "    print(tracks_df.head(3))\n",
                "\n",
                "    # Crear gráfico de dispersión Popularidad vs Duración\n",
                "    scatter_plot = sns.scatterplot(data=tracks_df, x=\"popularity\", y=\"duration_min\")\n",
                "    fig = scatter_plot.get_figure()\n",
                "    fig.savefig(\"scatter_plot.png\")\n",
                "    print(\"📊 Gráfico guardado como scatter_plot.png\")\n",
                "\n",
                "\n",
                "\n",
                "\n",
                "\n"
            ]
        }
    ],
    "metadata": {
        "kernelspec": {
            "display_name": "Python 3",
            "language": "python",
            "name": "python3"
        },
        "language_info": {
            "codemirror_mode": {
                "name": "ipython",
                "version": 3
            },
            "file_extension": ".py",
            "mimetype": "text/x-python",
            "name": "python",
            "nbconvert_exporter": "python",
            "pygments_lexer": "ipython3",
            "version": "3.11.4"
        },
        "orig_nbformat": 4
    },
    "nbformat": 4,
    "nbformat_minor": 2
}
